{
 "cells": [
  {
   "cell_type": "code",
   "execution_count": 1,
   "id": "29a147c7-5e29-4210-ab2e-1508161f9e5f",
   "metadata": {},
   "outputs": [],
   "source": [
    "import numpy as np\n",
    "import pandas as pd\n",
    "\n",
    "from sklearn.model_selection import train_test_split\n",
    "from sklearn.feature_extraction.text import TfidfVectorizer\n",
    "from sklearn.svm import LinearSVC"
   ]
  },
  {
   "cell_type": "code",
   "execution_count": 2,
   "id": "2ee40c7e-c07e-489e-841d-dad1c8a022f8",
   "metadata": {},
   "outputs": [],
   "source": [
    "data = pd.read_csv(\"fake_or_real_news.csv\")"
   ]
  },
  {
   "cell_type": "code",
   "execution_count": 4,
   "id": "f36f2539-bd19-428a-b3a9-1c4ddf7fc8fa",
   "metadata": {},
   "outputs": [],
   "source": [
    "data[\"fake\"] = data[\"label\"].apply(lambda x: 0 if x == \"REAL\" else 1)"
   ]
  },
  {
   "cell_type": "code",
   "execution_count": 6,
   "id": "1146e6ad-9f86-44fc-be12-95c56ceb4d90",
   "metadata": {},
   "outputs": [],
   "source": [
    "data = data.drop(\"label\", axis=1)"
   ]
  },
  {
   "cell_type": "code",
   "execution_count": 8,
   "id": "de00d99e-1069-4f07-85a6-1bf8d02c8688",
   "metadata": {},
   "outputs": [],
   "source": [
    "x, y = data[\"text\"], data[\"fake\"]"
   ]
  },
  {
   "cell_type": "code",
   "execution_count": 12,
   "id": "490b4d64-ea18-4554-b18d-0678e12c62b0",
   "metadata": {},
   "outputs": [],
   "source": [
    "x_train, x_test, y_train, y_test = train_test_split(x, y, test_size=0.2)"
   ]
  },
  {
   "cell_type": "code",
   "execution_count": 14,
   "id": "9fe01d1b-84fe-4c85-8d1f-fa6696fb4058",
   "metadata": {},
   "outputs": [
    {
     "data": {
      "text/plain": [
       "5068"
      ]
     },
     "execution_count": 14,
     "metadata": {},
     "output_type": "execute_result"
    }
   ],
   "source": [
    "len(x_train)"
   ]
  },
  {
   "cell_type": "code",
   "execution_count": 15,
   "id": "9985f710-aeb4-4fc7-9cda-01e1462a928f",
   "metadata": {},
   "outputs": [
    {
     "data": {
      "text/plain": [
       "1267"
      ]
     },
     "execution_count": 15,
     "metadata": {},
     "output_type": "execute_result"
    }
   ],
   "source": [
    "len(x_test)"
   ]
  },
  {
   "cell_type": "code",
   "execution_count": null,
   "id": "63e41ca0-4258-4e54-a690-c03f1cfc08b7",
   "metadata": {},
   "outputs": [],
   "source": []
  }
 ],
 "metadata": {
  "kernelspec": {
   "display_name": "Python 3 (ipykernel)",
   "language": "python",
   "name": "python3"
  },
  "language_info": {
   "codemirror_mode": {
    "name": "ipython",
    "version": 3
   },
   "file_extension": ".py",
   "mimetype": "text/x-python",
   "name": "python",
   "nbconvert_exporter": "python",
   "pygments_lexer": "ipython3",
   "version": "3.9.6"
  }
 },
 "nbformat": 4,
 "nbformat_minor": 5
}
